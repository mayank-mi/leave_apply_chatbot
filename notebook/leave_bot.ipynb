{
 "cells": [
  {
   "cell_type": "code",
   "execution_count": 1,
   "metadata": {},
   "outputs": [
    {
     "data": {
      "text/plain": [
       "10"
      ]
     },
     "execution_count": 1,
     "metadata": {},
     "output_type": "execute_result"
    }
   ],
   "source": [
    "5+5"
   ]
  },
  {
   "cell_type": "code",
   "execution_count": 2,
   "metadata": {},
   "outputs": [
    {
     "name": "stderr",
     "output_type": "stream",
     "text": [
      "\n",
      "[notice] A new release of pip is available: 24.0 -> 24.1.2\n",
      "[notice] To update, run: python.exe -m pip install --upgrade pip\n",
      "\n",
      "[notice] A new release of pip is available: 24.0 -> 24.1.2\n",
      "[notice] To update, run: python.exe -m pip install --upgrade pip\n",
      "\n",
      "[notice] A new release of pip is available: 24.0 -> 24.1.2\n",
      "[notice] To update, run: python.exe -m pip install --upgrade pip\n"
     ]
    }
   ],
   "source": [
    "!pip -q install langchain-groq \n",
    "!pip -q install -U langchain_community tiktoken langchainhub\n",
    "!pip -q install -U langchain langgraph tavily-python langchain_openai"
   ]
  },
  {
   "cell_type": "code",
   "execution_count": 1,
   "metadata": {},
   "outputs": [],
   "source": [
    "import os\n",
    "\n",
    "os.environ[\"GROQ_API_KEY\"] = \"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\"\n",
    "# os.environ[\"TAVILY_API_KEY\"] = \"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\"\n",
    "os.environ[\"LANGCHAIN_API_KEY\"] =  \"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\"     #\"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\"\n",
    "os.environ[\"LANGCHAIN_PROJECT\"] = \"leave\"\n",
    "os.environ[\"LANGCHAIN_ENDPOINT\"] = \"https://api.smith.langchain.com\"\n",
    "os.environ[\"LANGCHAIN_TRACING_V2\"] = \"True\""
   ]
  },
  {
   "cell_type": "code",
   "execution_count": 2,
   "metadata": {},
   "outputs": [],
   "source": [
    "from langchain_groq import ChatGroq\n",
    "\n",
    "llm = ChatGroq(\n",
    "            model=\"llama3-70b-8192\",\n",
    "        )"
   ]
  },
  {
   "cell_type": "code",
   "execution_count": 3,
   "metadata": {},
   "outputs": [],
   "source": [
    "import time\n",
    "import os \n",
    "# from openai import OpenAI\n",
    "from groq import Groq\n",
    "from langchain.prompts import PromptTemplate\n",
    "from langchain_core.output_parsers import StrOutputParser\n",
    "from langchain_groq import ChatGroq"
   ]
  },
  {
   "cell_type": "code",
   "execution_count": 13,
   "metadata": {},
   "outputs": [
    {
     "data": {
      "text/plain": [
       "AIMessage(content=\"Hello!\\n\\nCandy is a type of sweet food that is typically made from sugar or honey and often flavored with natural or artificial flavorings. Candies can come in a wide variety of textures, shapes, and sizes, and can be found in many different forms, such as:\\n\\n1. Hard candies: These are candies that are made by boiling sugar and water to create a hard, transparent, and brittle candy. Examples include lollipops, peppermints, and jawbreakers.\\n2. Soft candies: These are candies that are made by boiling sugar and water, but not to the same temperature as hard candies, resulting in a softer and more chewy texture. Examples include gummies, caramels, and marshmallows.\\n3. Chewy candies: These are candies that are designed to be chewed and have a soft, rubbery texture. Examples include gummies, licorice, and toffees.\\n4. Chocolate candies: These are candies that are made with chocolate as the main ingredient. Examples include chocolate bars, truffles, and chocolate-covered nuts.\\n5. Fruit candies: These are candies that are made with fruit purees or juices and often have a softer, more jelly-like texture. Examples include fruit leathers, fruit rolls, and fruit gummies.\\n\\nCandies can be made with a variety of ingredients, including:\\n\\n* Sugar or honey as the primary sweetener\\n* Flavorings, such as fruit purees, extracts, or oils\\n* Colors, such as food dyes or natural pigments\\n* Texturizers, such as gelatin, agar, or pectin\\n* Fillings, such as nuts, cream, or fruit\\n\\nCandies have been around for thousands of years and have been enjoyed by people all around the world. They can be a fun and tasty treat, but it's also important to remember to enjoy them in moderation as part of a balanced diet!\", response_metadata={'token_usage': {'completion_tokens': 394, 'prompt_tokens': 16, 'total_tokens': 410, 'completion_time': 1.235484986, 'prompt_time': 0.008732837, 'queue_time': None, 'total_time': 1.2442178229999998}, 'model_name': 'llama3-70b-8192', 'system_fingerprint': 'fp_2f30b0b571', 'finish_reason': 'stop', 'logprobs': None}, id='run-3003b1af-43c3-42b0-9e1d-60c79896549e-0', usage_metadata={'input_tokens': 16, 'output_tokens': 394, 'total_tokens': 410})"
      ]
     },
     "execution_count": 13,
     "metadata": {},
     "output_type": "execute_result"
    }
   ],
   "source": [
    "llm.invoke('hii what is candy?')"
   ]
  },
  {
   "cell_type": "code",
   "execution_count": null,
   "metadata": {},
   "outputs": [],
   "source": []
  },
  {
   "cell_type": "code",
   "execution_count": 2,
   "metadata": {},
   "outputs": [],
   "source": [
    "LANGCHAIN_TRACING_V2=True\n",
    "LANGCHAIN_ENDPOINT=\"https://api.smith.langchain.com\"\n",
    "LANGCHAIN_API_KEY= \"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\" \n",
    "LANGCHAIN_PROJECT=\"leave_bot\""
   ]
  },
  {
   "cell_type": "code",
   "execution_count": 30,
   "metadata": {},
   "outputs": [],
   "source": [
    "import json\n",
    "\n",
    "# Define the dictionary\n",
    "leave_request = {\n",
    "    \"select_leave_type\": \"\",\n",
    "    \"from_date\": \"\",\n",
    "    \"to_date\": \"\",\n",
    "    \"reason_for_leave\": \"\"\n",
    "}\n",
    "\n",
    "# Write the dictionary to a JSON file\n",
    "with open('leave_request.json', 'w') as json_file:\n",
    "    json.dump(leave_request, json_file, indent=4)\n"
   ]
  },
  {
   "cell_type": "code",
   "execution_count": 33,
   "metadata": {},
   "outputs": [
    {
     "name": "stdout",
     "output_type": "stream",
     "text": [
      "{'select_leave_type': '', 'from_date': '', 'to_date': '', 'reason_for_leave': ''}\n"
     ]
    }
   ],
   "source": [
    "with open('C:/projcects/leave_chatbot/notebook/leave_request.json', 'r') as json_file:\n",
    "    leave_request = json.load(json_file)\n",
    "\n",
    "print(leave_request)"
   ]
  },
  {
   "cell_type": "code",
   "execution_count": 18,
   "metadata": {},
   "outputs": [
    {
     "data": {
      "text/plain": [
       "dict"
      ]
     },
     "execution_count": 18,
     "metadata": {},
     "output_type": "execute_result"
    }
   ],
   "source": [
    "leave_request = {\n",
    "    \"select_leave_type\": \"\",\n",
    "    \"from_date\": \"\",\n",
    "    \"to_date\": \"\",\n",
    "    \"reason_for_leave\": \"\"\n",
    "}\n",
    "type(leave_request)"
   ]
  },
  {
   "cell_type": "code",
   "execution_count": 26,
   "metadata": {},
   "outputs": [
    {
     "name": "stdout",
     "output_type": "stream",
     "text": [
      "{'select_leave_type': 'sick', 'from_date': '2024-07-20', 'to_date': '2024-07-25', 'reason_for_leave': 'I am not feeling well and need some rest.'}\n"
     ]
    }
   ],
   "source": [
    "import re\n",
    "\n",
    "# Initialize the leave_request dictionary\n",
    "leave_request = {\n",
    "    \"select_leave_type\": \"\",\n",
    "    \"from_date\": \"\",\n",
    "    \"to_date\": \"\",\n",
    "    \"reason_for_leave\": \"\"\n",
    "}\n",
    "\n",
    "def parse_leave_request(user_message):\n",
    "    # Regular expressions to extract information\n",
    "    leave_type_pattern = re.compile(r'leave type\\s*:\\s*(\\w+)', re.IGNORECASE)\n",
    "    from_date_pattern = re.compile(r'from\\s*:\\s*([\\d-]+)', re.IGNORECASE)\n",
    "    to_date_pattern = re.compile(r'to\\s*:\\s*([\\d-]+)', re.IGNORECASE)\n",
    "    reason_pattern = re.compile(r'reason\\s*:\\s*(.+)', re.IGNORECASE)\n",
    "    \n",
    "    # Extract information using regular expressions\n",
    "    leave_type_match = leave_type_pattern.search(user_message)\n",
    "    from_date_match = from_date_pattern.search(user_message)\n",
    "    to_date_match = to_date_pattern.search(user_message)\n",
    "    reason_match = reason_pattern.search(user_message)\n",
    "    \n",
    "    # Fill the leave_request dictionary with extracted values\n",
    "    if leave_type_match:\n",
    "        leave_request[\"select_leave_type\"] = leave_type_match.group(1)\n",
    "    if from_date_match:\n",
    "        leave_request[\"from_date\"] = from_date_match.group(1)\n",
    "    if to_date_match:\n",
    "        leave_request[\"to_date\"] = to_date_match.group(1)\n",
    "    if reason_match:\n",
    "        leave_request[\"reason_for_leave\"] = reason_match.group(1)\n",
    "    \n",
    "    return leave_request\n",
    "\n",
    "# Example user message\n",
    "user_message = \"\"\"\n",
    "I would like to request a leave.\n",
    "Leave type: sick\n",
    "From: 2024-07-20\n",
    "To: 2024-07-25\n",
    "Reason: I am not feeling well and need some rest.\n",
    "\"\"\"\n",
    "\n",
    "# Parse the user message and fill the leave_request dictionary\n",
    "filled_leave_request = parse_leave_request(user_message)\n",
    "\n",
    "print(filled_leave_request)\n"
   ]
  },
  {
   "cell_type": "code",
   "execution_count": 3,
   "metadata": {},
   "outputs": [],
   "source": [
    "import time\n",
    "import os \n",
    "# from openai import OpenAI\n",
    "from groq import Groq\n",
    "from langchain.prompts import PromptTemplate\n",
    "from langchain_core.output_parsers import StrOutputParser\n",
    "from langchain_groq import ChatGroq"
   ]
  },
  {
   "cell_type": "code",
   "execution_count": null,
   "metadata": {},
   "outputs": [],
   "source": []
  },
  {
   "cell_type": "code",
   "execution_count": null,
   "metadata": {},
   "outputs": [],
   "source": [
    "prompt = PromptTemplate(\n",
    "    template=\"\"\"system\n",
    "    You are a situation Categorizer Agent. You are a master at understanding what a user asks when they ask a question and are able to categorize it in a useful way.\n",
    "\n",
    "    user\n",
    "    Conduct a comprehensive analysis of the user message provided and categorize it into one of the following categories:\n",
    "        visual - used when someone is asking about how they look, or how the environment behind them looks, or any related visual question about the user, or tell what is he doing.\n",
    "        regular - used when someone asks about non-visual information or asks about some topic or query.\n",
    "    Output a single category only from the types ('visual', 'regular').\n",
    "    Example:\n",
    "    'visual'\n",
    "\n",
    "    User question:\\n\\n{initial_msg}\\n\\n\n",
    "\n",
    "    assistant\n",
    "    \"\"\",\n",
    "    input_variables=[\"initial_msg\"],\n",
    ")\n",
    "category_generator = prompt | GROQ_LLM | StrOutputParser()"
   ]
  },
  {
   "cell_type": "code",
   "execution_count": null,
   "metadata": {},
   "outputs": [],
   "source": []
  },
  {
   "cell_type": "code",
   "execution_count": null,
   "metadata": {},
   "outputs": [],
   "source": [
    "prompt_01 = PromptTemplate(\n",
    "    template=\"\"\"system\n",
    "    You are an assistant capable to help employee for apply leave based on leave information. employee give relavent leave info you have to analyz information and store in correct dictionary key pair dict is :\n",
    "\n",
    "    user\n",
    "    Here is the required data for leave: {image_description}\n",
    "\n",
    "    Based on this description, provide an answer to the following question: {user_question}\n",
    "\n",
    "    assistant\n",
    "    \"\"\",\n",
    "    input_variables=[\"image_description\", \"user_question\"]\n",
    ")\n",
    "visual_generator = prompt_01 | llm | StrOutputParser()"
   ]
  },
  {
   "cell_type": "code",
   "execution_count": null,
   "metadata": {},
   "outputs": [],
   "source": [
    "ai_input = visual_generator.invoke({\"image_description\": message[1:2], \"user_question\": user_input})"
   ]
  },
  {
   "cell_type": "code",
   "execution_count": 35,
   "metadata": {},
   "outputs": [
    {
     "name": "stdout",
     "output_type": "stream",
     "text": [
      "{'select_leave_type': '', 'from_date': '', 'to_date': '', 'reason_for_leave': ''}\n"
     ]
    }
   ],
   "source": [
    "with open('C:/projcects/leave_chatbot/notebook/leave_request.json', 'r') as json_file:\n",
    "    leave_request = json.load(json_file)\n",
    "\n",
    "print(leave_request)"
   ]
  },
  {
   "cell_type": "code",
   "execution_count": null,
   "metadata": {},
   "outputs": [],
   "source": []
  },
  {
   "cell_type": "code",
   "execution_count": null,
   "metadata": {},
   "outputs": [],
   "source": [
    "prompt_01 = PromptTemplate(\n",
    "    template=\"\"\"system\n",
    "    You are an assistant capable to help employee for apply leave based on leave information. employee give relavent leave info you have to analyz information and store in correct dictionary key pair dict is: {jason}\n",
    "\n",
    "    user\n",
    "    Here is my leave information: {description}\n",
    "\n",
    "    assistant\n",
    "    \"\"\",\n",
    "    input_variables=[\"jason\",\"description\" ]\n",
    ")\n",
    "visual_generator = prompt_01 | llm | StrOutputParser()"
   ]
  },
  {
   "cell_type": "code",
   "execution_count": 65,
   "metadata": {},
   "outputs": [],
   "source": [
    "user_input = 'i want to leave 15th augest to 19 augest pwd leave.'# i am going home'"
   ]
  },
  {
   "cell_type": "code",
   "execution_count": 66,
   "metadata": {},
   "outputs": [],
   "source": [
    "prompt_01 = PromptTemplate(\n",
    "    template=\"\"\"system\n",
    "You are an assistant capable of helping employees apply for leave based on the leave information they provide. Analyze the information and store it in the correct dictionary key-value pairs and in answer only and only provide dictionary nothing much.\n",
    "if related value not in information than dont fill that key. The dictionary is: {json} \n",
    "user\n",
    "Here is my leave information: {description}\n",
    "assistant\n",
    "\"\"\",\n",
    "    input_variables=[\"json\", \"description\"]\n",
    ")\n",
    "visual_generator = prompt_01 | llm | StrOutputParser()"
   ]
  },
  {
   "cell_type": "code",
   "execution_count": 67,
   "metadata": {},
   "outputs": [
    {
     "data": {
      "text/plain": [
       "'{\"select_leave_type\": \"\", \"from_date\": \"\", \"to_date\": \"\", \"reason_for_leave\": \"\"}'"
      ]
     },
     "execution_count": 67,
     "metadata": {},
     "output_type": "execute_result"
    }
   ],
   "source": [
    "with open('C:/projcects/leave_chatbot/notebook/leave_request.json', 'r') as json_file:\n",
    "    leave_request = json.load(json_file)\n",
    "\n",
    "# Convert the leave_request dictionary to a JSON string\n",
    "import json\n",
    "leave_request_json = json.dumps(leave_request)\n",
    "leave_request_json"
   ]
  },
  {
   "cell_type": "code",
   "execution_count": 68,
   "metadata": {},
   "outputs": [],
   "source": [
    "ans = visual_generator.invoke({\"json\": leave_request_json, \"description\": user_input})"
   ]
  },
  {
   "cell_type": "code",
   "execution_count": 85,
   "metadata": {},
   "outputs": [
    {
     "name": "stdout",
     "output_type": "stream",
     "text": [
      "{\"select_leave_type\": \"PWD\", \"from_date\": \"15th August\", \"to_date\": \"19th August\", \"reason_for_leave\": \"\"}\n"
     ]
    }
   ],
   "source": [
    "print(ans)"
   ]
  },
  {
   "cell_type": "code",
   "execution_count": 70,
   "metadata": {},
   "outputs": [
    {
     "name": "stdout",
     "output_type": "stream",
     "text": [
      "Filled leave request saved to leave.json\n"
     ]
    }
   ],
   "source": [
    "# Parse the response (assuming it's already in a JSON-like format)\n",
    "filled_leave_request = json.loads(ans)\n",
    "\n",
    "# Save the filled leave request dictionary to a JSON file\n",
    "output_file_path = 'leave.json'\n",
    "with open(output_file_path, 'w') as json_file:\n",
    "    json.dump(filled_leave_request, json_file, indent=4)\n",
    "\n",
    "print(f\"Filled leave request saved to {output_file_path}\")"
   ]
  },
  {
   "cell_type": "code",
   "execution_count": null,
   "metadata": {},
   "outputs": [],
   "source": []
  },
  {
   "cell_type": "code",
   "execution_count": null,
   "metadata": {},
   "outputs": [],
   "source": []
  },
  {
   "cell_type": "code",
   "execution_count": 81,
   "metadata": {},
   "outputs": [
    {
     "data": {
      "text/plain": [
       "'{\"select_leave_type\": \"PWD\", \"from_date\": \"15th August\", \"to_date\": \"19th August\", \"reason_for_leave\": \"\"}'"
      ]
     },
     "execution_count": 81,
     "metadata": {},
     "output_type": "execute_result"
    }
   ],
   "source": [
    "ans"
   ]
  },
  {
   "cell_type": "code",
   "execution_count": 88,
   "metadata": {},
   "outputs": [
    {
     "name": "stdout",
     "output_type": "stream",
     "text": [
      "{'select_leave_type': 'LWP', 'from_date': '15th August', 'to_date': '19th August', 'reason_for_leave': ''}\n"
     ]
    }
   ],
   "source": [
    "print(initial_response)"
   ]
  },
  {
   "cell_type": "code",
   "execution_count": 80,
   "metadata": {},
   "outputs": [
    {
     "name": "stdout",
     "output_type": "stream",
     "text": [
      "Filled leave request saved to leave.json\n"
     ]
    }
   ],
   "source": [
    "filled_leave_request = json.loads(ans)\n",
    "\n",
    "# Save the filled leave request dictionary to a JSON file\n",
    "output_file_path = 'leave.json'\n",
    "with open(output_file_path, 'w') as json_file:\n",
    "    json.dump(filled_leave_request, json_file, indent=4)\n",
    "\n",
    "print(f\"Filled leave request saved to {output_file_path}\")"
   ]
  },
  {
   "cell_type": "code",
   "execution_count": 53,
   "metadata": {},
   "outputs": [
    {
     "name": "stdout",
     "output_type": "stream",
     "text": [
      "Initial response: {'select_leave_type': '', 'from_date': '15th August', 'to_date': '19th August', 'reason_for_leave': ''}\n",
      "Missing information response: I'd be happy to help you fill out your leave request form. To complete the form, I need some additional information from you. Could you please provide the following:\n",
      "\n",
      "1. **Select Leave Type**: What type of leave are you requesting? (e.g. Annual Leave, Sick Leave, Bereavement Leave, Family Leave, etc.)\n",
      "2. **Reason for Leave**: Could you please specify the reason for your leave request? (e.g. vacation, illness, family emergency, etc.)\n",
      "\n",
      "Once I have this information, I'll be able to help you complete the form.\n",
      "Filled leave request saved to leave.json\n"
     ]
    }
   ],
   "source": [
    "# Define the prompt template for initial generation\n",
    "import json\n",
    "import ast\n",
    "initial_prompt = PromptTemplate(\n",
    "    template=\"\"\"system\n",
    "You are an assistant capable of helping employees apply for leave based on the leave information they provide. Analyze the information and store it in the correct dictionary key-value pairs and in answer only and only provide dictionary nothing much.\n",
    "if related value not in information than dont fill that key. The dictionary is: {json} \n",
    "user\n",
    "Here is my leave information: {description}\n",
    "assistant\n",
    "\"\"\",\n",
    "    input_variables=[\"json\", \"description\"]\n",
    ")\n",
    "\n",
    "# Define the prompt template for asking missing information\n",
    "missing_info_prompt = PromptTemplate(\n",
    "    template=\"\"\"system\n",
    "You are an assistant helping to fill out a leave request form. The following information is missing: {missing_fields}. Please ask the user to provide this information.\n",
    "assistant\n",
    "\"\"\",\n",
    "    input_variables=[\"missing_fields\"]\n",
    ")\n",
    "\n",
    "# Define the leave_request dictionary\n",
    "with open('C:/projcects/leave_chatbot/notebook/leave_request.json', 'r') as json_file:\n",
    "    leave_request = json.load(json_file)\n",
    "\n",
    "# Convert the leave_request dictionary to a JSON string\n",
    "\n",
    "leave_request_json = json.dumps(leave_request)\n",
    "leave_request_json\n",
    "leave_request_json = {'select_leave_type': '', 'from_date': '', 'to_date': '', 'reason_for_leave': ''}\n",
    "\n",
    "# # Convert the leave_request dictionary to a JSON string\n",
    "# leave_request = json.dumps(leave_request)\n",
    "\n",
    "# Define the user input\n",
    "user_input = 'I want to leave from 15th August to 19th August for LWP leave.'\n",
    "\n",
    "# Define the visual generator for initial response\n",
    "visual_generator_initial = initial_prompt | llm | StrOutputParser()\n",
    "\n",
    "# Invoke the visual generator with the JSON string and user description\n",
    "initial_response = visual_generator_initial.invoke({\"json\": leave_request_json, \"description\": user_input})\n",
    "\n",
    "# Print the initial response\n",
    "print(\"Initial response:\", initial_response)\n",
    "######################\n",
    "with open('leave_request_ans.json', 'w') as json_file:\n",
    "    json.dump(initial_response, json_file, indent=4)\n",
    "\n",
    "with open('C:/projcects/leave_chatbot/notebook/leave_request_ans.json', 'r') as json_file:\n",
    "    leave_request = json.load(json_file)\n",
    "\n",
    "leave_request = ast.literal_eval(leave_request)\n",
    "######################\n",
    "\n",
    "# # Parse the initial response to extract the dictionary\n",
    "# filled_leave_request = initial_response#json.loads(initial_response)\n",
    "\n",
    "# Check for missing fields\n",
    "missing_fields = [key for key, value in leave_request.items() if not value]\n",
    "\n",
    "# If there are missing fields, prompt the user for them\n",
    "if missing_fields:\n",
    "    missing_fields_str = \", \".join(missing_fields)\n",
    "    \n",
    "    # Define the visual generator for missing information\n",
    "    visual_generator_missing_info = missing_info_prompt | llm | StrOutputParser()\n",
    "    \n",
    "    # Get the response for missing fields\n",
    "    missing_info_response = visual_generator_missing_info.invoke({\"missing_fields\": missing_fields_str})\n",
    "    \n",
    "    print(\"Missing information response:\", missing_info_response)\n",
    "    \n",
    "    # Assume the user provides the missing information (for simplicity, we will just mock this part)\n",
    "    # In a real-world scenario, you would get the actual user input here\n",
    "    user_provided_info = {\n",
    "        \"reason_for_leave\": \"I am not feeling well.\"\n",
    "    }\n",
    "    \n",
    "    # Update the filled_leave_request dictionary with the missing information\n",
    "    for key in missing_fields:\n",
    "        if key in user_provided_info:\n",
    "            leave_request[key] = user_provided_info[key]\n",
    "\n",
    "# Save the final filled leave request dictionary to a JSON file\n",
    "output_file_path = 'leave.json'\n",
    "with open(output_file_path, 'w') as json_file:\n",
    "    json.dump(leave_request, json_file, indent=4)\n",
    "\n",
    "print(f\"Filled leave request saved to {output_file_path}\")\n"
   ]
  },
  {
   "cell_type": "code",
   "execution_count": 9,
   "metadata": {},
   "outputs": [
    {
     "name": "stdout",
     "output_type": "stream",
     "text": [
      "Initial response: {\"select_leave_type\": \"\", \"from_date\": \"15th August\", \"to_date\": \"19th August\", \"reason_for_leave\": \"\"}\n",
      "Missing information response: It looks like we're missing some important information to complete the leave request form. Could you please provide the following details:\n",
      "\n",
      "1. **Select Leave Type**: Which type of leave are you applying for? Please choose one of the following options:\n",
      "\t* Bereavement Leave\n",
      "\t* Leave Without Pay\n",
      "\t* Marriage Leave\n",
      "\t* Paternity Leave\n",
      "\t* Privilege Leave\n",
      "\t* Sick Leave\n",
      "\n",
      "2. **Reason for Leave**: Could you please provide a brief explanation for why you need to take this leave?\n",
      "\n",
      "Once you provide this information, I'll be happy to help you complete the form. therrrrrrrrrr end\n",
      "Filled leave request saved to leave.json\n"
     ]
    }
   ],
   "source": [
    "# 2nd case missing multiple input\n",
    "import json\n",
    "import ast\n",
    "initial_prompt = PromptTemplate(\n",
    "    template=\"\"\"system\n",
    "You are an assistant capable of helping employees apply for leave based on the leave information they provide. Analyze the information and store it in the correct dictionary key-value pairs and in answer only and only provide dictionary nothing much.\n",
    "if related value not in information than dont fill that key. The dictionary is: {json} \n",
    "user\n",
    "Here is my leave information: {description}\n",
    "assistant\n",
    "\"\"\",\n",
    "    input_variables=[\"json\", \"description\"]\n",
    ")\n",
    "\n",
    "# Define the prompt template for asking missing information\n",
    "missing_info_prompt = PromptTemplate(\n",
    "    template=\"\"\"system\n",
    "You are an assistant helping to fill out a leave request form. The following information is missing: {missing_fields}. Please ask the user to provide this information.\n",
    "assistant., below of type of require feild if user did not fill that criteria give option as below for relavant missing value.,\n",
    "select_leave_types : [Bereavement Leave, Leave Without Pay, Marriage Leave, Paternity Leave, Privilege Leave, Sick Leave],\n",
    "\"\"\",\n",
    "    input_variables=[\"missing_fields\"]\n",
    ")\n",
    "\n",
    "# Define the leave_request dictionary\n",
    "with open('C:/projcects/leave_chatbot/notebook/leave_request.json', 'r') as json_file:\n",
    "    leave_request = json.load(json_file)\n",
    "\n",
    "# Convert the leave_request dictionary to a JSON string\n",
    "leave_request_json = json.dumps(leave_request)\n",
    "# leave_request_json = {'select_leave_type': '', 'from_date': '', 'to_date': '', 'reason_for_leave': ''}\n",
    "\n",
    "# # Convert the leave_request dictionary to a JSON string\n",
    "# leave_request = json.dumps(leave_request)\n",
    "\n",
    "# Define the user input\n",
    "user_input = 'I want to leave from 15th August to 19th August'# for LWP leave.'\n",
    "\n",
    "# Define the visual generator for initial response\n",
    "visual_generator_initial = initial_prompt | llm | StrOutputParser()\n",
    "\n",
    "# Invoke the visual generator with the JSON string and user description\n",
    "initial_response = visual_generator_initial.invoke({\"json\": leave_request_json, \"description\": user_input})\n",
    "\n",
    "# Print the initial response\n",
    "print(\"Initial response:\", initial_response)\n",
    "######################\n",
    "with open('leave_request_ans.json', 'w') as json_file:\n",
    "    json.dump(initial_response, json_file, indent=4)\n",
    "\n",
    "with open('C:/projcects/leave_chatbot/notebook/leave_request_ans.json', 'r') as json_file:\n",
    "    leave_request = json.load(json_file)\n",
    "\n",
    "leave_request = ast.literal_eval(leave_request)\n",
    "\n",
    "# Check for missing fields\n",
    "missing_fields = [key for key, value in leave_request.items() if not value]\n",
    "\n",
    "# If there are missing fields, prompt the user for them\n",
    "if missing_fields:\n",
    "    missing_fields_str = \", \".join(missing_fields)\n",
    "    \n",
    "    # Define the visual generator for missing information\n",
    "    visual_generator_missing_info = missing_info_prompt | llm | StrOutputParser()\n",
    "    \n",
    "    # Get the response for missing fields\n",
    "    missing_info_response = visual_generator_missing_info.invoke({\"missing_fields\": missing_fields_str})\n",
    "    \n",
    "    print(\"Missing information response:\", missing_info_response,'therrrrrrrrrr end')\n",
    "    \n",
    "    # Assume the user provides the missing information (for simplicity, we will just mock this part)\n",
    "    # In a real-world scenario, you would get the actual user input here\n",
    "\n",
    "    user_provided_info = {\n",
    "        \"reason_for_leave\": \"I am not feeling well.\",\n",
    "        \"select_leave_type\": \"folk Leave\"\n",
    "    }\n",
    "    \n",
    "    # user_input = str(input(missing_info_response))\n",
    "\n",
    "    # # Print the user input\n",
    "    # print(f\"Hello, {user_input}!\")\n",
    "\n",
    "\n",
    "    # Update the filled_leave_request dictionary with the missing information\n",
    "    for key in missing_fields:\n",
    "        if key in user_provided_info:\n",
    "            leave_request[key] = user_provided_info[key]\n",
    "\n",
    "# Save the final filled leave request dictionary to a JSON file\n",
    "output_file_path = 'leave.json'\n",
    "with open(output_file_path, 'w') as json_file:\n",
    "    json.dump(leave_request, json_file, indent=4)\n",
    "\n",
    "print(f\"Filled leave request saved to {output_file_path}\")\n"
   ]
  },
  {
   "cell_type": "code",
   "execution_count": 9,
   "metadata": {},
   "outputs": [],
   "source": [
    "import json\n",
    "import ast\n",
    "with open('C:/projcects/leave_chatbot/notebook/leave_request_ans.json', 'r') as json_file:\n",
    "    leave_request = json.load(json_file)\n",
    "\n",
    "leave_request = ast.literal_eval(leave_request)"
   ]
  },
  {
   "cell_type": "code",
   "execution_count": 12,
   "metadata": {},
   "outputs": [
    {
     "data": {
      "text/plain": [
       "{'select_leave_type': '',\n",
       " 'from_date': '15th August',\n",
       " 'to_date': '19th August',\n",
       " 'reason_for_leave': ''}"
      ]
     },
     "execution_count": 12,
     "metadata": {},
     "output_type": "execute_result"
    }
   ],
   "source": [
    "leave_request"
   ]
  },
  {
   "cell_type": "code",
   "execution_count": 13,
   "metadata": {},
   "outputs": [
    {
     "data": {
      "text/plain": [
       "['select_leave_type', 'reason_for_leave']"
      ]
     },
     "execution_count": 13,
     "metadata": {},
     "output_type": "execute_result"
    }
   ],
   "source": [
    "[key for key, value in leave_request.items() if not value]"
   ]
  },
  {
   "cell_type": "code",
   "execution_count": 6,
   "metadata": {},
   "outputs": [
    {
     "name": "stdout",
     "output_type": "stream",
     "text": [
      "Hello, for Sick leave and and on rest!\n"
     ]
    }
   ],
   "source": [
    "# Take input from the user\n",
    "user_input = str(input(missing_info_response))\n",
    "\n",
    "# Print the user input\n",
    "print(f\"Hello, {user_input}!\")\n"
   ]
  },
  {
   "cell_type": "code",
   "execution_count": 1,
   "metadata": {},
   "outputs": [],
   "source": [
    "input('Could you please provide the following details:')"
   ]
  },
  {
   "cell_type": "code",
   "execution_count": 50,
   "metadata": {},
   "outputs": [
    {
     "name": "stdout",
     "output_type": "stream",
     "text": [
      " kkkkkk I am not feeling well.\n"
     ]
    }
   ],
   "source": [
    "for key in missing_fields:\n",
    "    print(leave_request[key],'kkkkkk',user_provided_info[key])"
   ]
  },
  {
   "cell_type": "code",
   "execution_count": 49,
   "metadata": {},
   "outputs": [
    {
     "name": "stdout",
     "output_type": "stream",
     "text": [
      "\n"
     ]
    }
   ],
   "source": [
    "leave_request[key]"
   ]
  },
  {
   "cell_type": "code",
   "execution_count": 42,
   "metadata": {},
   "outputs": [
    {
     "data": {
      "text/plain": [
       "['reason_for_leave']"
      ]
     },
     "execution_count": 42,
     "metadata": {},
     "output_type": "execute_result"
    }
   ],
   "source": [
    "with open('C:/projcects/leave_chatbot/notebook/leave_request_ans.json', 'r') as json_file:\n",
    "    leave_request = json.load(json_file)\n",
    "\n",
    "leave_request = ast.literal_eval(leave_request)\n",
    "\n",
    "[key for key, value in leave_request.items() if not value]"
   ]
  },
  {
   "cell_type": "code",
   "execution_count": 38,
   "metadata": {},
   "outputs": [
    {
     "data": {
      "text/plain": [
       "['reason_for_leave']"
      ]
     },
     "execution_count": 38,
     "metadata": {},
     "output_type": "execute_result"
    }
   ],
   "source": [
    "missing_fields"
   ]
  },
  {
   "cell_type": "code",
   "execution_count": 29,
   "metadata": {},
   "outputs": [
    {
     "name": "stdout",
     "output_type": "stream",
     "text": [
      "['reason_for_leave']\n"
     ]
    }
   ],
   "source": [
    "missing_fields_str = \", \".join(missing_fields)\n",
    "print(missing_fields)"
   ]
  },
  {
   "cell_type": "code",
   "execution_count": 20,
   "metadata": {},
   "outputs": [
    {
     "data": {
      "text/plain": [
       "\"{'select_leave_type': 'LWP', 'from_date': '15th August', 'to_date': '19th August', 'reason_for_leave': ''}\""
      ]
     },
     "execution_count": 20,
     "metadata": {},
     "output_type": "execute_result"
    }
   ],
   "source": [
    "leave_request = \"{'select_leave_type': 'LWP', 'from_date': '15th August', 'to_date': '19th August', 'reason_for_leave': ''}\""
   ]
  },
  {
   "cell_type": "code",
   "execution_count": 23,
   "metadata": {},
   "outputs": [
    {
     "data": {
      "text/plain": [
       "dict"
      ]
     },
     "execution_count": 23,
     "metadata": {},
     "output_type": "execute_result"
    }
   ],
   "source": [
    "import ast\n",
    "# Convert the string to a dictionary\n",
    "leave_request_dict = ast.literal_eval(leave_request)\n",
    "type(leave_request_dict)"
   ]
  },
  {
   "cell_type": "code",
   "execution_count": 26,
   "metadata": {},
   "outputs": [
    {
     "data": {
      "text/plain": [
       "['reason_for_leave']"
      ]
     },
     "execution_count": 26,
     "metadata": {},
     "output_type": "execute_result"
    }
   ],
   "source": [
    "[key for key, value in leave_request_dict.items() if not value]"
   ]
  },
  {
   "cell_type": "code",
   "execution_count": 17,
   "metadata": {},
   "outputs": [
    {
     "data": {
      "text/plain": [
       "str"
      ]
     },
     "execution_count": 17,
     "metadata": {},
     "output_type": "execute_result"
    }
   ],
   "source": [
    "type(leave_request)"
   ]
  },
  {
   "cell_type": "code",
   "execution_count": 9,
   "metadata": {},
   "outputs": [
    {
     "data": {
      "text/plain": [
       "str"
      ]
     },
     "execution_count": 9,
     "metadata": {},
     "output_type": "execute_result"
    }
   ],
   "source": [
    "type(filled_leave_request)"
   ]
  },
  {
   "cell_type": "code",
   "execution_count": null,
   "metadata": {},
   "outputs": [],
   "source": [
    "fill_rest_prompt = PromptTemplate(\n",
    "    template=\"\"\"system\n",
    "You are an assistant to fill relevant info in dictionary empty value from user answer. check this dictionary empty value key: {missing_fields}. \n",
    "this is a user massage: {user_answer} and just fill minimum answer in leave value like Sick Leave , Paid Leave if user mention type of leave otherwise not fill.\n",
    "and in reason_for_leave fill user reason nothing more add in reason\n",
    "if type of sick leave not include from this list [Bereavement Leave, Leave Without Pay, Marriage Leave, Paternity Leave, Privilege Leave, Sick Leave]\n",
    "don't fill value of select_leave_types.\n",
    "and if user given date in reverse order than don't fill date value.\n",
    ",Analyze the information and store it in the correct dictionary key-value pairs and in answer only and only provide dictionary nothing much.\"\"\",\n",
    "    input_variables=[\"missing_fields\",\"user_answer\"]\n",
    ")\n",
    "\n",
    "fill_rest_prompt = PromptTemplate(\n",
    "    template=\"\"\"system\n",
    "You are an assistant to fill relevant info in dictionary empty value from user answer. check this dictionary empty value key: {missing_fields}. \n",
    "this is a user massage: {user_answer} and in reason_for_leave fill if user give proper reason for leave than fill reason value nothing add more in reason\n",
    "from your side\n",
    "if type of sick leave not include from this list [Bereavement Leave, Leave Without Pay, Marriage Leave, Paternity Leave, Privilege Leave, Sick Leave]\n",
    "don't fill value of select_leave_types.\n",
    "and if user given date in reverse order than don't fill date value.\n",
    ",Analyze the information and store it in the correct dictionary key-value pairs and in answer only and only provide dictionary key and value if value not present don't fill\n",
    "nothing much.\n",
    "assistant\"\"\",\n",
    "    input_variables=[\"missing_fields\",\"user_answer\"]\n",
    ")\n",
    "\n",
    "fill_rest_prompt = PromptTemplate(\n",
    "    template=\"\"\"system\n",
    "You are an assistant to fill relevant info in dictionary empty value from user answer. check this dictionary empty value key: {missing_fields}. \n",
    "this is a user massage: {user_answer} and in reason_for_leave fill if user give proper reason for leave than fill reason value nothing add more in reason\n",
    "from your side\n",
    "if type of sick leave not include from this list [Bereavement Leave, Leave Without Pay, Marriage Leave, Paternity Leave, Privilege Leave, Sick Leave]\n",
    "don't fill value of select_leave_types.\n",
    "and if user given date in reverse order than don't fill date value.\n",
    ",Analyze the information and store it in the correct dictionary key-value pairs and in answer only and only provide dictionary key and value if value not present don't fill\n",
    "nothing much.\n",
    "assistant\"\"\",\n",
    "    input_variables=[\"missing_fields\", \"user_answer\"]\n",
    ")"
   ]
  },
  {
   "cell_type": "code",
   "execution_count": 27,
   "metadata": {},
   "outputs": [
    {
     "name": "stdout",
     "output_type": "stream",
     "text": [
      "Initial response: {'select_leave_type': '', 'from_date': '', 'to_date': '', 'reason_for_leave': ''}\n",
      "Missing information response: It looks like we're missing some important information to complete the leave request form. Could you please provide the following details:\n",
      "\n",
      "1. **Select Leave Type**: Please choose one of the following options:\n",
      "\t* Bereavement Leave\n",
      "\t* Leave Without Pay\n",
      "\t* Marriage Leave\n",
      "\t* Paternity Leave\n",
      "\t* Privilege Leave\n",
      "\t* Sick Leave\n",
      "\n",
      "2. **From Date**: Please enter the start date of your leave in the format DD/MM/YYYY. Note that the from date should be earlier than the to date.\n",
      "\n",
      "3. **To Date**: Please enter the end date of your leave in the format DD/MM/YYYY. Note that the to date should be later than the from date.\n",
      "\n",
      "4. **Reason for Leave**: Please provide a brief explanation for your leave request.\n",
      "\n",
      "Also, please note that if you enter the dates in reverse order (i.e., the to date is earlier than the from date), I'll ask you to correct it. This is because the leave period should have a logical and chronological sequence. therrrrrrrrrr end\n",
      "Hello, i want leave 5 aug to 10 aug!\n",
      "3ri jo promt {'select_leave_type': '', 'from_date': '5 aug', 'to_date': '10 aug', 'reason_for_leave': ''}  3jo finiiiii\n",
      "Filled leave request saved to leave_request_ans.json\n"
     ]
    }
   ],
   "source": [
    "# 2nd case missing multiple input\n",
    "import json\n",
    "import ast\n",
    "initial_prompt = PromptTemplate(\n",
    "    template=\"\"\"system\n",
    "You are an assistant capable of helping employees apply for leave based on the leave information they provide. Analyze the information and store it \n",
    "in the correct dictionary key-value pairs and if user given date in reverse order than don't fill date value and answer only and only provide dictionary nothing much.\n",
    "if related value not in information than don't fill that key. The dictionary is: {json} \n",
    "user\n",
    "Here is my leave information: {description}\n",
    "assistant\n",
    "\"\"\",\n",
    "    input_variables=[\"json\", \"description\"]\n",
    ")\n",
    "\n",
    "# Define the prompt template for asking missing information\n",
    "missing_info_prompt = PromptTemplate(\n",
    "    template=\"\"\"system\n",
    "You are an assistant helping to fill out a leave request form. The following information is missing: {missing_fields}. Please ask the user to provide this information.\n",
    "assistant. below of type of require feild if user did not fill that criteria give option as below for relavant missing value.,\n",
    "select_leave_types : [Bereavement Leave, Leave Without Pay, Marriage Leave, Paternity Leave, Privilege Leave, Sick Leave],\n",
    "if user given date in reverse order than don't fill date value .and ask to give date in correct order. and explain why user date is not eligible.\n",
    "\"\"\",\n",
    "    input_variables=[\"missing_fields\"]\n",
    ")\n",
    "\n",
    "fill_rest_prompt = PromptTemplate(\n",
    "    template=\"\"\"system\n",
    "You are an assistant to fill relevant info in dictionary empty value from user answer. check this dictionary empty value key: {missing_fields}. \n",
    "this is a user massage: {user_answer} and in reason_for_leave fill value if user give proper reason for leave than nothing add more in reason from your side\n",
    "or did not give proper leave reason than left empty reason_for_leave.\n",
    "if type of sick leave not include from this list [Bereavement Leave, Leave Without Pay, Marriage Leave, Paternity Leave, Privilege Leave, Sick Leave]\n",
    "don't fill value of select_leave_types.\n",
    "and if user given date in reverse order than don't fill date value.\n",
    ",Analyze the information and store it in the correct dictionary key-value pairs and answer only and only provide dictionary nothing much.\n",
    "assistant\"\"\",\n",
    "    input_variables=[\"missing_fields\",\"user_answer\"]\n",
    ")\n",
    "\n",
    "# Define the leave_request dictionary\n",
    "with open('C:/projcects/leave_chatbot/notebook/leave_request.json', 'r') as json_file:\n",
    "    leave_request = json.load(json_file)\n",
    "\n",
    "# Convert the leave_request dictionary to a JSON string\n",
    "leave_request_json =  leave_request #json.dumps(leave_request)\n",
    "\n",
    "# Define the user input\n",
    "#user_input = 'I want to leave from 15th August to 19th August'# for LWP leave.'\n",
    "user_input = str(input('reason'))\n",
    "\n",
    "# Define the visual generator for initial response\n",
    "visual_generator_initial = initial_prompt | llm | StrOutputParser()\n",
    "\n",
    "fill_all_value = fill_rest_prompt | llm | StrOutputParser()\n",
    "\n",
    "# Invoke the visual generator with the JSON string and user description\n",
    "initial_response = visual_generator_initial.invoke({\"json\": leave_request_json, \"description\": user_input})\n",
    "\n",
    "# Print the initial response\n",
    "print(\"Initial response:\", initial_response)\n",
    "initial_response = ast.literal_eval(initial_response)\n",
    "######################\n",
    "with open('leave_request_ans.json', 'w') as json_file:\n",
    "    json.dump(initial_response, json_file, indent=4)\n",
    "\n",
    "with open('C:/projcects/leave_chatbot/notebook/leave_request_ans.json', 'r') as json_file:\n",
    "    leave_request = json.load(json_file)\n",
    "\n",
    "# Check for missing fields  \n",
    "missing_fields = [key for key, value in leave_request.items() if not value]\n",
    "\n",
    "# If there are missing fields, prompt the user for them\n",
    "if missing_fields:\n",
    "    missing_fields_str = \", \".join(missing_fields)\n",
    "    \n",
    "    # Define the visual generator for missing information\n",
    "    visual_generator_missing_info = missing_info_prompt | llm | StrOutputParser()\n",
    "    \n",
    "    # Get the response for missing fields\n",
    "    missing_info_response = visual_generator_missing_info.invoke({\"missing_fields\": missing_fields_str})\n",
    "    \n",
    "    print(\"Missing information response:\", missing_info_response,'therrrrrrrrrr end')\n",
    "\n",
    "    user_input_02 = str(input(missing_info_response))\n",
    "    print(f\"Hello, {user_input_02}!\")\n",
    "    all_value_user = fill_all_value.invoke({\"missing_fields\":leave_request,\"user_answer\":user_input_02}) \n",
    "    print('3ri jo promt',all_value_user,' 3jo finiiiii')\n",
    "\n",
    "# Save the final filled leave request dictionary to a JSON file\n",
    "output_file_path = 'leave_request_ans.json' #'leave.json'\n",
    "all_value = ast.literal_eval(all_value_user)\n",
    "with open(output_file_path, 'w') as json_file:\n",
    "    json.dump(all_value, json_file)\n",
    "\n",
    "print(f\"Filled leave request saved to {output_file_path}\")\n"
   ]
  },
  {
   "cell_type": "code",
   "execution_count": 13,
   "metadata": {},
   "outputs": [],
   "source": [
    "def log_chat(user_input, bot_response, file_path='chat_history.txt'):\n",
    "    with open(file_path, 'a') as file:\n",
    "        file.write(f\"User: {user_input}\\n\")\n",
    "        file.write(f\"Bot: {bot_response}\\n\")\n",
    "        file.write(\"-\" * 50 + \"\\n\")"
   ]
  },
  {
   "cell_type": "code",
   "execution_count": 14,
   "metadata": {},
   "outputs": [
    {
     "name": "stdout",
     "output_type": "stream",
     "text": [
      "Initial response: {'select_leave_type': 'Sick Leave', 'from_date': '', 'to_date': '', 'reason_for_leave': ''}\n",
      "1 lo: {'select_leave_type': 'Sick Leave', 'from_date': '', 'to_date': '', 'reason_for_leave': ''}\n",
      "Missing information response: It looks like we're missing some important information to complete your leave request form. Could you please provide the following details:\n",
      "\n",
      "1. **From Date**: When would you like your leave to start? Please enter a date in the format YYYY-MM-DD.\n",
      "\n",
      "2. **To Date**: When would you like your leave to end? Please enter a date in the format YYYY-MM-DD. **Note:** Make sure the \"From Date\" is earlier than the \"To Date\". If you enter the dates in reverse order, we won't be able to process your request.\n",
      "\n",
      "3. **Reason for Leave**: What is the reason for your leave? Please select one of the following options:\n",
      "   - Bereavement Leave\n",
      "   - Leave Without Pay\n",
      "   - Marriage Leave\n",
      "   - Paternity Leave\n",
      "   - Privilege Leave\n",
      "   - Sick Leave\n",
      "\n",
      "Please fill in the missing information, and we'll be happy to assist you with your leave request. therrrrrr end\n",
      "Hello, i am going goa!\n",
      "3ri jo promt [\"{'select_leave_type': '', 'from_date': '', 'to_date': '', 'reason_for_leave': ''}\"]  3jo finiiiii\n",
      "Missing information response: It looks like we're missing some important information to complete your leave request form. Could you please provide the following details:\n",
      "\n",
      "1. **Select Leave Type**: Which type of leave are you applying for? Please choose one from the following options:\n",
      "\t* Bereavement Leave\n",
      "\t* Leave Without Pay\n",
      "\t* Marriage Leave\n",
      "\t* Paternity Leave\n",
      "\t* Privilege Leave\n",
      "\t* Sick Leave\n",
      "\n",
      "2. **From Date**: When does your leave start? Please enter the date in the format DD/MM/YYYY.\n",
      "\n",
      "3. **To Date**: When does your leave end? Please enter the date in the format DD/MM/YYYY. **Important:** Please ensure that the From Date is earlier than the To Date. If you enter the dates in reverse order, we cannot process your request.\n",
      "\n",
      "4. **Reason for Leave**: Could you please provide a brief explanation for your leave request?\n",
      "\n",
      "Once you provide this information, we'll be happy to assist you with your leave request. therrrrrr end\n",
      "Hello, i want leave 15 jan to 5 jan!\n",
      "3ri jo promt [\"{'select_leave_type': '', 'from_date': '', 'to_date': '', 'reason_for_leave': ''}\"]  3jo finiiiii\n",
      "Missing information response: It looks like we're missing some important information to complete your leave request form. Could you please provide the following details:\n",
      "\n",
      "**Select Leave Type:** Which type of leave are you applying for? Please choose one of the following options:\n",
      "1. Bereavement Leave\n",
      "2. Leave Without Pay\n",
      "3. Marriage Leave\n",
      "4. Paternity Leave\n",
      "5. Privilege Leave\n",
      "6. Sick Leave\n",
      "\n",
      "**From Date:** When does your leave start? Please enter the date in the format of YYYY-MM-DD.\n",
      "\n",
      "**To Date:** When does your leave end? Please enter the date in the format of YYYY-MM-DD.\n",
      "\n",
      "**Important:** Please ensure that the From Date is earlier than the To Date. If the dates are entered in reverse order, I won't be able to fill them in and will ask you to correct them.\n",
      "\n",
      "**Reason for Leave:** Could you please provide a brief explanation for your leave request?\n",
      "\n",
      "Once you provide this information, I'll be happy to assist you in completing your leave request form. therrrrrr end\n",
      "Hello, i want leave 5 jan to 15 jan!\n",
      "3ri jo promt [\"{'select_leave_type': 'Sick Leave', 'from_date': '5 jan', 'to_date': '15 jan', 'reason_for_leave': ''}\"]  3jo finiiiii\n",
      "Missing information response: It looks like we're missing some important information on the leave request form.\n",
      "\n",
      "Could you please specify the reason for your leave? We have the following options:\n",
      "\n",
      "1. Bereavement Leave\n",
      "2. Leave Without Pay\n",
      "3. Marriage Leave\n",
      "4. Paternity Leave\n",
      "5. Privilege Leave\n",
      "6. Sick Leave\n",
      "\n",
      "Please select one of the above options or provide a brief description of your reason for leave.\n",
      "\n",
      "Also, a friendly reminder: when entering dates, please ensure they are in the correct order (yyyy-mm-dd). If the dates are entered in reverse order, we won't be able to process your request. therrrrrr end\n",
      "Hello, i am going goa!\n",
      "3ri jo promt [\"{'select_leave_type': 'Sick Leave', 'from_date': '5 jan', 'to_date': '15 jan', 'reason_for_leave': 'i am going goa'}\"]  3jo finiiiii\n",
      "Filled leave request saved to leave.json\n"
     ]
    }
   ],
   "source": [
    "# 2nd case missing multiple input\n",
    "import json\n",
    "import ast\n",
    "import re\n",
    "\n",
    "# Regex pattern to match dictionaries\n",
    "pattern = re.compile(r\"\\{[^{}]+\\}\")\n",
    "\n",
    "initial_prompt = PromptTemplate(\n",
    "    template=\"\"\"system\n",
    "You are an assistant capable of helping employees apply for leave based on the leave information they provide. Analyze the information and store it \n",
    "in the correct dictionary key-value pairs and if user given date in reverse order than do not fill from_date and to_date value. date should be incremental\n",
    "order like between 1 to 31 not 31 to 1,if related value not in information than don't fill that key.select_leave_types should be from this \n",
    "list: [Bereavement Leave, Leave Without Pay, Marriage Leave, Paternity Leave, Privilege Leave, Sick Leave],user Leave type spelling error correct and store\n",
    "if from the list and in your answer only and only dictionary nothing much just dictionary. The dictionary is: {json} \n",
    "user\n",
    "Here is my leave information: {description}\n",
    "assistant\n",
    "\"\"\",\n",
    "    input_variables=[\"json\", \"description\"]\n",
    ")\n",
    "\n",
    "# Define the prompt template for asking missing information\n",
    "missing_info_prompt = PromptTemplate(\n",
    "    template=\"\"\"system\n",
    "You are an assistant helping to fill out a leave request form. The following information is missing: {missing_fields}. Please ask the user to provide this information.\n",
    "assistant. below of type of require feild if user did not fill that criteria give option as below for relavant missing value.,\n",
    "select_leave_types : [Bereavement Leave, Leave Without Pay, Marriage Leave, Paternity Leave, Privilege Leave, Sick Leave],\n",
    "if user given date in reverse order than don't fill date value .and ask to give date in correct order. and explain why user date is not eligible.\n",
    "\"\"\",\n",
    "    input_variables=[\"missing_fields\"]\n",
    ")\n",
    "\n",
    "fill_rest_prompt = PromptTemplate(\n",
    "    template=\"\"\"system\n",
    "You are an assistant to fill relevant info in dictionary empty value from user answer. check this dictionary empty value key: {missing_fields}. \n",
    "and in reason_for_leave fill value if user give proper reason for leave than nothing add more in reason from your side or did not give proper leave reason \n",
    "than left empty reason_for_leave.\n",
    "if type of sick leave not include from this list [Bereavement Leave, Leave Without Pay, Marriage Leave, Paternity Leave, Privilege Leave, Sick Leave]\n",
    "don't fill value of select_leave_types.\n",
    "and if user given date in reverse order than do not fill from_date and to_date value. date should be incremental order like between 1 to 31 not 31 to 1,\n",
    ",Analyze the information and store it in the correct dictionary key-value pairs and in your answer only and only dictionary nothing much just dictionary.\n",
    "this is a user massage: {user_answer}\n",
    "assistant\"\"\",\n",
    "    input_variables=[\"missing_fields\",\"user_answer\"]\n",
    ")\n",
    "# Define the leave_request dictionary\n",
    "with open('C:/projcects/leave_chatbot/notebook/leave_request.json', 'r') as json_file:\n",
    "    leave_request = json.load(json_file)\n",
    "\n",
    "# Convert the leave_request dictionary to a JSON string\n",
    "leave_request_json =  leave_request #json.dumps(leave_request)\n",
    "\n",
    "#user_input = 'I want to leave from 15th August to 19th August'# for LWP leave.'\n",
    "user_input = str(input('reason'))\n",
    "\n",
    "# Define the visual generator for initial response\n",
    "visual_generator_initial = initial_prompt | llm | StrOutputParser()\n",
    "\n",
    "fill_all_value = fill_rest_prompt | llm | StrOutputParser()\n",
    "\n",
    "# Invoke the visual generator with the JSON string and user description\n",
    "initial_response = visual_generator_initial.invoke({\"json\": leave_request_json, \"description\": user_input})\n",
    "\n",
    "# Print the initial response\n",
    "print(\"Initial response:\", initial_response)\n",
    "initial_response = pattern.findall(initial_response)\n",
    "print(\"1 lo:\", initial_response[0])\n",
    "initial_response = ast.literal_eval(initial_response[0])\n",
    "log_chat(user_input, initial_response)\n",
    "######################\n",
    "with open('leave_request_ans.json', 'w') as json_file:\n",
    "    json.dump(initial_response, json_file, indent=4)\n",
    "\n",
    "with open('C:/projcects/leave_chatbot/notebook/leave_request_ans.json', 'r') as json_file:\n",
    "    leave_request = json.load(json_file)\n",
    "\n",
    "# Check for missing fields  \n",
    "missing_fields = [key for key, value in leave_request.items() if not value]\n",
    "\n",
    "# If there are missing fields, prompt the user for them\n",
    "while missing_fields:\n",
    "    missing_fields_str = \", \".join(missing_fields)\n",
    "    \n",
    "    # Define the visual generator for missing information\n",
    "    visual_generator_missing_info = missing_info_prompt | llm | StrOutputParser()\n",
    "    \n",
    "    # Get the response for missing fields\n",
    "    missing_info_response = visual_generator_missing_info.invoke({\"missing_fields\": missing_fields_str})\n",
    "    \n",
    "    print(\"Missing information response:\", missing_info_response,'therrrrrr end')\n",
    "\n",
    "    user_input_02 = str(input(missing_info_response))\n",
    "    print(f\"Hello, {user_input_02}!\")\n",
    "    all_value_user = fill_all_value.invoke({\"missing_fields\":leave_request,\"user_answer\":user_input_02}) \n",
    "    all_value_user = pattern.findall(all_value_user)\n",
    "    print('3ri jo promt',all_value_user,' 3jo finiiiii')\n",
    "\n",
    "    output_file_path = 'leave_request_ans.json' #'leave.json'\n",
    "    all_value = ast.literal_eval(all_value_user[0])\n",
    "    with open(output_file_path, 'w') as json_file:\n",
    "        json.dump(all_value, json_file)\n",
    "\n",
    "        log_chat(user_input_02, all_value)\n",
    "\n",
    "    with open('C:/projcects/leave_chatbot/notebook/leave_request_ans.json', 'r') as json_file:\n",
    "        leave_request = json.load(json_file)\n",
    "    missing_fields = [key for key, value in leave_request.items() if not value]\n",
    "\n",
    "\n",
    "# Save the final filled leave request dictionary to a JSON file\n",
    "output_file_path = 'leave.json'\n",
    "all_value = ast.literal_eval(all_value_user[0])\n",
    "with open(output_file_path, 'w') as json_file:\n",
    "    json.dump(all_value, json_file)\n",
    "\n",
    "print(f\"Filled leave request saved to {output_file_path}\")\n"
   ]
  },
  {
   "cell_type": "code",
   "execution_count": null,
   "metadata": {},
   "outputs": [],
   "source": []
  },
  {
   "cell_type": "code",
   "execution_count": null,
   "metadata": {},
   "outputs": [],
   "source": []
  },
  {
   "cell_type": "code",
   "execution_count": null,
   "metadata": {},
   "outputs": [],
   "source": []
  },
  {
   "cell_type": "code",
   "execution_count": null,
   "metadata": {},
   "outputs": [],
   "source": []
  },
  {
   "cell_type": "code",
   "execution_count": null,
   "metadata": {},
   "outputs": [],
   "source": []
  },
  {
   "cell_type": "code",
   "execution_count": 8,
   "metadata": {},
   "outputs": [
    {
     "name": "stdout",
     "output_type": "stream",
     "text": [
      "{'select_leave_type': '', 'from_date': '', 'to_date': '', 'reason_for_leave': ''}\n",
      "{'select_leave_type': 'Sick Leave', 'from_date': '15th August', 'to_date': '19th August', 'reason_for_leave': 'Feeling unwell'}\n"
     ]
    }
   ],
   "source": [
    "import re\n",
    "\n",
    "# Sample string containing dictionaries\n",
    "sample_str = \"\"\"\n",
    "Here is the resulting dictionary:\n",
    "{'select_leave_type': '', 'from_date': '', 'to_date': '', 'reason_for_leave': ''} 3jo finiiiii\n",
    "Another example:\n",
    "{'select_leave_type': 'Sick Leave', 'from_date': '15th August', 'to_date': '19th August', 'reason_for_leave': 'Feeling unwell'}\n",
    "\"\"\"\n",
    "\n",
    "# Regex pattern to match dictionaries\n",
    "pattern = re.compile(r\"\\{[^{}]+\\}\")\n",
    "\n",
    "# Find all dictionaries in the string\n",
    "dict_matches = pattern.findall(sample_str)\n",
    "\n",
    "# Convert matched strings to dictionaries\n",
    "dict_list = [ast.literal_eval(d) for d in dict_matches]\n",
    "\n",
    "# Print the extracted dictionaries\n",
    "for d in dict_list:\n",
    "    print(d)\n"
   ]
  },
  {
   "cell_type": "code",
   "execution_count": 15,
   "metadata": {},
   "outputs": [],
   "source": [
    "import tkinter as tk\n",
    "from tkinter import messagebox\n",
    "\n",
    "def on_leave_selected(leave_type):\n",
    "    messagebox.showinfo(\"Leave Selected\", f\"You selected: {leave_type}\")\n",
    "\n",
    "# Create the main application window\n",
    "root = tk.Tk()\n",
    "root.title(\"Select Leave Type\")\n",
    "\n",
    "# List of leave options\n",
    "leave_options = [\n",
    "    \"Bereavement Leave\", \n",
    "    \"Leave Without Pay\", \n",
    "    \"Marriage Leave\", \n",
    "    \"Paternity Leave\", \n",
    "    \"Privilege Leave\", \n",
    "    \"Sick Leave\"\n",
    "]\n",
    "\n",
    "# Create a button for each leave option\n",
    "for leave in leave_options:\n",
    "    button = tk.Button(root, text=leave, command=lambda l=leave: on_leave_selected(l))\n",
    "    button.pack(pady=5)\n",
    "\n",
    "# Start the main event loop\n",
    "root.mainloop()\n",
    "\n"
   ]
  },
  {
   "cell_type": "code",
   "execution_count": 16,
   "metadata": {},
   "outputs": [
    {
     "name": "stdout",
     "output_type": "stream",
     "text": [
      "Welcome to the Leave Request Chatbot!\n",
      "Please select a leave type by entering the corresponding number:\n",
      "1. Bereavement Leave\n",
      "2. Leave Without Pay\n",
      "3. Marriage Leave\n",
      "4. Paternity Leave\n",
      "5. Privilege Leave\n",
      "6. Sick Leave\n",
      "You selected: Leave Without Pay\n",
      "Processing your Leave Without Pay request...\n"
     ]
    }
   ],
   "source": [
    "def display_leave_options():\n",
    "    leave_options = [\n",
    "        \"Bereavement Leave\",\n",
    "        \"Leave Without Pay\",\n",
    "        \"Marriage Leave\",\n",
    "        \"Paternity Leave\",\n",
    "        \"Privilege Leave\",\n",
    "        \"Sick Leave\"\n",
    "    ]\n",
    "\n",
    "    print(\"Please select a leave type by entering the corresponding number:\")\n",
    "    for idx, leave in enumerate(leave_options, start=1):\n",
    "        print(f\"{idx}. {leave}\")\n",
    "\n",
    "    while True:\n",
    "        try:\n",
    "            user_choice = int(input(\"Enter the number of your choice: \"))\n",
    "            if 1 <= user_choice <= len(leave_options):\n",
    "                selected_leave = leave_options[user_choice - 1]\n",
    "                print(f\"You selected: {selected_leave}\")\n",
    "                return selected_leave\n",
    "            else:\n",
    "                print(\"Invalid choice. Please enter a number between 1 and 6.\")\n",
    "        except ValueError:\n",
    "            print(\"Invalid input. Please enter a valid number.\")\n",
    "\n",
    "# Example usage in a chatbot context\n",
    "def chatbot():\n",
    "    print(\"Welcome to the Leave Request Chatbot!\")\n",
    "    selected_leave = display_leave_options()\n",
    "    # Here you can continue with the chatbot logic using the selected leave type\n",
    "    print(f\"Processing your {selected_leave} request...\")\n",
    "\n",
    "# Run the chatbot\n",
    "chatbot()\n"
   ]
  },
  {
   "cell_type": "code",
   "execution_count": null,
   "metadata": {},
   "outputs": [],
   "source": []
  }
 ],
 "metadata": {
  "kernelspec": {
   "display_name": "leave_chatbot",
   "language": "python",
   "name": "python3"
  },
  "language_info": {
   "codemirror_mode": {
    "name": "ipython",
    "version": 3
   },
   "file_extension": ".py",
   "mimetype": "text/x-python",
   "name": "python",
   "nbconvert_exporter": "python",
   "pygments_lexer": "ipython3",
   "version": "3.12.4"
  }
 },
 "nbformat": 4,
 "nbformat_minor": 2
}
